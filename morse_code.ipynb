{
 "cells": [
  {
   "cell_type": "markdown",
   "metadata": {},
   "source": [
    "# Morse-Encoder\n"
   ]
  },
  {
   "cell_type": "markdown",
   "metadata": {},
   "source": [
    "In dieser Code werden wir einen Morse-Encoder implementiert. Dieser Code verwendet die Bibliothek `numpy` zur Erzeugung von Sinuswellen und `scipy` zur Erzeugung von .wav-Dateien. Die Nachricht \"SobuHasy\" wird in Morse-Code umgewandelt und als Audiodatei ausgegeben."
   ]
  },
  {
   "cell_type": "markdown",
   "metadata": {},
   "source": [
    "Zuerst müssen wir die Bibliotheken `numpy` und `scipy` installieren um dieser Code auszuführen."
   ]
  },
  {
   "cell_type": "markdown",
   "metadata": {},
   "source": [
    "`pip install numpy`\n",
    "\n",
    "`pip install scipy`"
   ]
  },
  {
   "cell_type": "markdown",
   "metadata": {},
   "source": [
    "Zuerst importieren wir die Bibliotheken `numpy` und `scipy` hier um diese zu nutzen:"
   ]
  },
  {
   "cell_type": "code",
   "execution_count": null,
   "metadata": {},
   "outputs": [],
   "source": [
    "import numpy as np\n",
    "from scipy.io.wavfile import read, write"
   ]
  },
  {
   "cell_type": "markdown",
   "metadata": {},
   "source": [
    "## Morse-Code Darstellung "
   ]
  },
  {
   "cell_type": "code",
   "execution_count": null,
   "metadata": {},
   "outputs": [],
   "source": [
    "morse_code = { \n",
    "    'A':'.-', 'B':'-...',\n",
    "    'C':'-.-.', 'D':'-..', 'E':'.',\n",
    "    'F':'..-.', 'G':'--.', 'H':'....',\n",
    "    'I':'..', 'J':'.---', 'K':'-.-',\n",
    "    'L':'.-..', 'M':'--', 'N':'-.',\n",
    "    'O':'---', 'P':'.--.', 'Q':'--.-',\n",
    "    'R':'.-.', 'S':'...', 'T':'-',\n",
    "    'U':'..-', 'V':'...-', 'W':'.--',\n",
    "    'X':'-..-', 'Y':'-.--', 'Z':'--..',\n",
    "    '1':'.----', '2':'..---', '3':'...--',\n",
    "    '4':'....-', '5':'.....', '6':'-....',\n",
    "    '7':'--...', '8':'---..', '9':'----.',\n",
    "    '0':'-----', ', ':'--..--', '.':'.-.-.-',\n",
    "    '?':'..--..', '/':'-..-.', '-':'-....-',\n",
    "    '(':'-.--.', ')':'-.--.-'}"
   ]
  },
  {
   "cell_type": "markdown",
   "metadata": {},
   "source": [
    "## Parameter"
   ]
  },
  {
   "cell_type": "markdown",
   "metadata": {},
   "source": [
    "Hier sind die Parameter aus dem Übung:\n",
    "\n",
    "- Trägerfrequenz 600Hz\n",
    "- Sample Rate 7119 Hz\n",
    "- Länge eines Dits 100 ms (entspricht ~12 Wörtern pro Minute)\n",
    "- Das Nachricht im Morse-Code zu Codieren"
   ]
  },
  {
   "cell_type": "code",
   "execution_count": null,
   "metadata": {},
   "outputs": [],
   "source": [
    "freq = 600\n",
    "sample_rate = 7119\n",
    "dit_length = 0.1\n",
    "message = \"SOBUHASY\""
   ]
  },
  {
   "cell_type": "markdown",
   "metadata": {},
   "source": [
    "## Funktion zur Erzeugung einer Sinuswelle"
   ]
  }
 ],
 "metadata": {
  "language_info": {
   "name": "python"
  }
 },
 "nbformat": 4,
 "nbformat_minor": 2
}
