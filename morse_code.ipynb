{
 "cells": [
  {
   "cell_type": "markdown",
   "metadata": {},
   "source": [
    "# Morse-Encoder\n"
   ]
  },
  {
   "cell_type": "markdown",
   "metadata": {},
   "source": [
    "In dieser Code werden wir einen Morse-Encoder implementiert. Dieser Code verwendet die Bibliothek `numpy` zur Erzeugung von Sinuswellen und `scipy` zur Erzeugung von .wav-Dateien. Die Nachricht \"SobuHasy\" wird in Morse-Code umgewandelt und als Audiodatei ausgegeben."
   ]
  },
  {
   "cell_type": "markdown",
   "metadata": {},
   "source": [
    "Zuerst müssen wir die Bibliotheken `numpy` und `scipy` installieren um dieser Code auszuführen."
   ]
  },
  {
   "cell_type": "markdown",
   "metadata": {},
   "source": [
    "`pip install numpy`\n",
    "\n",
    "`pip install scipy`"
   ]
  },
  {
   "cell_type": "markdown",
   "metadata": {},
   "source": [
    "Zuerst importieren wir die Bibliotheken `numpy` und `scipy` hier um diese zu nutzen:"
   ]
  },
  {
   "cell_type": "code",
   "execution_count": 1,
   "metadata": {},
   "outputs": [],
   "source": [
    "import numpy as np\n",
    "from scipy.io.wavfile import read, write"
   ]
  },
  {
   "cell_type": "markdown",
   "metadata": {},
   "source": [
    "## Morse-Code Darstellung "
   ]
  },
  {
   "cell_type": "code",
   "execution_count": null,
   "metadata": {},
   "outputs": [],
   "source": [
    "morse_code = { \n",
    "    'A':'.-', 'B':'-...',\n",
    "    'C':'-.-.', 'D':'-..', 'E':'.',\n",
    "    'F':'..-.', 'G':'--.', 'H':'....',\n",
    "    'I':'..', 'J':'.---', 'K':'-.-',\n",
    "    'L':'.-..', 'M':'--', 'N':'-.',\n",
    "    'O':'---', 'P':'.--.', 'Q':'--.-',\n",
    "    'R':'.-.', 'S':'...', 'T':'-',\n",
    "    'U':'..-', 'V':'...-', 'W':'.--',\n",
    "    'X':'-..-', 'Y':'-.--', 'Z':'--..',\n",
    "    '1':'.----', '2':'..---', '3':'...--',\n",
    "    '4':'....-', '5':'.....', '6':'-....',\n",
    "    '7':'--...', '8':'---..', '9':'----.',\n",
    "    '0':'-----', ', ':'--..--', '.':'.-.-.-',\n",
    "    '?':'..--..', '/':'-..-.', '-':'-....-',\n",
    "    '(':'-.--.', ')':'-.--.-'}"
   ]
  },
  {
   "cell_type": "markdown",
   "metadata": {},
   "source": [
    "## Parameter"
   ]
  },
  {
   "cell_type": "markdown",
   "metadata": {},
   "source": [
    "Hier sind die Parameter aus dem Übung:\n",
    "\n",
    "- Trägerfrequenz 600Hz\n",
    "- Sample Rate 7119 Hz\n",
    "- Länge eines Dits 100 ms (entspricht ~12 Wörtern pro Minute)\n",
    "- Das Nachricht im Morse-Code zu Codieren"
   ]
  },
  {
   "cell_type": "code",
   "execution_count": null,
   "metadata": {},
   "outputs": [],
   "source": [
    "freq = 600\n",
    "sample_rate = 7119\n",
    "dit_length = 0.1\n",
    "message = \"SOBUHASY\""
   ]
  },
  {
   "cell_type": "markdown",
   "metadata": {},
   "source": [
    "## Funktion zur Erzeugung einer Sinuswelle"
   ]
  },
  {
   "cell_type": "code",
   "execution_count": null,
   "metadata": {},
   "outputs": [],
   "source": [
    "def generate_wave(freq, length, sample_rate):\n",
    "    x = np.linspace(0, length, int(length * sample_rate), False)\n",
    "    y = np.sin(freq * x * 2 * np.pi)\n",
    "    return y"
   ]
  },
  {
   "cell_type": "markdown",
   "metadata": {},
   "source": [
    "## Funktion zur Umwandlung der Nachricht in Morse-Code"
   ]
  },
  {
   "cell_type": "code",
   "execution_count": null,
   "metadata": {},
   "outputs": [],
   "source": [
    "def text_to_morse(text):\n",
    "    morse_text = \"\"\n",
    "    for char in text:\n",
    "        morse_text += morse_code[char.upper()] + \" \"\n",
    "    return morse_text"
   ]
  },
  {
   "cell_type": "markdown",
   "metadata": {},
   "source": [
    "## Funktion zur Umwandlung von Morse-Code in Audio"
   ]
  },
  {
   "cell_type": "code",
   "execution_count": null,
   "metadata": {},
   "outputs": [],
   "source": [
    "def morse_to_audio(morse_code, freq, dit_length, sample_rate):\n",
    "    dit = generate_wave(freq, dit_length, sample_rate)\n",
    "    dah = generate_wave(freq, dit_length * 3, sample_rate)\n",
    "    silence = np.zeros_like(dit)\n",
    "    audio = np.array([])\n",
    "    for char in morse_code:\n",
    "        if char == \".\":\n",
    "            audio = np.concatenate((audio, dit, silence))\n",
    "        elif char == \"-\":\n",
    "            audio = np.concatenate((audio, dah, silence))\n",
    "        elif char == \" \":\n",
    "            audio = np.concatenate((audio, silence, silence))\n",
    "    return audio\n"
   ]
  },
  {
   "cell_type": "markdown",
   "metadata": {},
   "source": [
    "## Umwandlung der Nachricht in Morse-Code"
   ]
  },
  {
   "cell_type": "code",
   "execution_count": null,
   "metadata": {},
   "outputs": [],
   "source": [
    "morse_message = text_to_morse(message)"
   ]
  },
  {
   "cell_type": "markdown",
   "metadata": {},
   "source": [
    "## Umwandlung von Morse-Code in Audio"
   ]
  },
  {
   "cell_type": "code",
   "execution_count": null,
   "metadata": {},
   "outputs": [],
   "source": [
    "audio = morse_to_audio(morse_message, freq, dit_length, sample_rate)"
   ]
  },
  {
   "cell_type": "markdown",
   "metadata": {},
   "source": [
    "## Schreiben der Audiodatei"
   ]
  },
  {
   "cell_type": "code",
   "execution_count": null,
   "metadata": {},
   "outputs": [],
   "source": [
    "write('morse_message.wav', sample_rate, audio)"
   ]
  }
 ],
 "metadata": {
  "kernelspec": {
   "display_name": "base",
   "language": "python",
   "name": "python3"
  },
  "language_info": {
   "codemirror_mode": {
    "name": "ipython",
    "version": 3
   },
   "file_extension": ".py",
   "mimetype": "text/x-python",
   "name": "python",
   "nbconvert_exporter": "python",
   "pygments_lexer": "ipython3",
   "version": "3.11.3"
  }
 },
 "nbformat": 4,
 "nbformat_minor": 2
}
